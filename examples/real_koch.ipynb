{
 "cells": [
  {
   "cell_type": "code",
   "execution_count": 1,
   "metadata": {},
   "outputs": [
    {
     "name": "stdout",
     "output_type": "stream",
     "text": [
      "Connecting main follower arm.\n",
      "Connecting main leader arm.\n",
      "Missing calibration file '.cache/calibration/koch/main_follower.json'\n",
      "\n",
      "Running calibration of koch main follower...\n",
      "\n",
      "Move arm to zero position\n",
      "See: https://raw.githubusercontent.com/huggingface/lerobot/main/media/koch/follower_zero.webp\n",
      "\n",
      "Move arm to rotated target position\n",
      "See: https://raw.githubusercontent.com/huggingface/lerobot/main/media/koch/follower_rotated.webp\n",
      "\n",
      "Move arm to rest position\n",
      "See: https://raw.githubusercontent.com/huggingface/lerobot/main/media/koch/follower_rest.webp\n",
      "\n",
      "Calibration is done! Saving calibration file '.cache/calibration/koch/main_follower.json'\n",
      "Missing calibration file '.cache/calibration/koch/main_leader.json'\n",
      "\n",
      "Running calibration of koch main leader...\n",
      "\n",
      "Move arm to zero position\n",
      "See: https://raw.githubusercontent.com/huggingface/lerobot/main/media/koch/leader_zero.webp\n",
      "\n",
      "Move arm to rotated target position\n",
      "See: https://raw.githubusercontent.com/huggingface/lerobot/main/media/koch/leader_rotated.webp\n",
      "\n",
      "Move arm to rest position\n",
      "See: https://raw.githubusercontent.com/huggingface/lerobot/main/media/koch/leader_rest.webp\n",
      "\n",
      "Calibration is done! Saving calibration file '.cache/calibration/koch/main_leader.json'\n",
      "Activating torque on main follower arm.\n"
     ]
    }
   ],
   "source": [
    "from lerobot.common.robot_devices.robots.configs import KochRobotConfig\n",
    "from lerobot.common.robot_devices.robots.manipulator import ManipulatorRobot\n",
    "from lerobot.common.robot_devices.motors.configs import DynamixelMotorsBusConfig\n",
    "from lerobot.common.robot_devices.motors.dynamixel import DynamixelMotorsBus\n",
    "\n",
    "leader_config = DynamixelMotorsBusConfig(\n",
    "    port=\"/dev/ttyACM1\",\n",
    "    motors={\n",
    "        # name: (index, model)\n",
    "        \"shoulder_pan\": (1, \"xl330-m077\"),\n",
    "        \"shoulder_lift\": (2, \"xl330-m077\"),\n",
    "        \"elbow_flex\": (3, \"xl330-m077\"),\n",
    "        \"wrist_flex\": (4, \"xl330-m077\"),\n",
    "        \"wrist_roll\": (5, \"xl330-m077\"),\n",
    "        \"gripper\": (6, \"xl330-m077\"),\n",
    "    },\n",
    ")\n",
    "\n",
    "follower_config = DynamixelMotorsBusConfig(\n",
    "    port=\"/dev/ttyACM2\",\n",
    "    motors={\n",
    "        # name: (index, model)\n",
    "        \"shoulder_pan\": (1, \"xl430-w250\"),\n",
    "        \"shoulder_lift\": (2, \"xl430-w250\"),\n",
    "        \"elbow_flex\": (3, \"xl330-m288\"),\n",
    "        \"wrist_flex\": (4, \"xl330-m288\"),\n",
    "        \"wrist_roll\": (5, \"xl330-m288\"),\n",
    "        \"gripper\": (6, \"xl330-m288\"),\n",
    "    },\n",
    ")\n",
    "robot_config = KochRobotConfig(\n",
    "    leader_arms={\"main\": leader_config},\n",
    "    follower_arms={\"main\": follower_config},\n",
    "    cameras={},  # We don't use any camera for now\n",
    ")\n",
    "robot = ManipulatorRobot(robot_config)\n",
    "\n",
    "robot.connect()\n"
   ]
  },
  {
   "cell_type": "code",
   "execution_count": 13,
   "metadata": {},
   "outputs": [
    {
     "name": "stderr",
     "output_type": "stream",
     "text": [
      "100%|██████████| 1000/1000 [00:04<00:00, 209.84it/s]\n"
     ]
    }
   ],
   "source": [
    "\n",
    "from lerobot.common.robot_devices.motors.dynamixel import TorqueMode\n",
    "import tqdm\n",
    "seconds = 5 \n",
    "frequency = 200\n",
    "if robot.is_connected == False:\n",
    "    robot.connect()\n",
    "    \n",
    "\n",
    "for _ in tqdm.tqdm(range(seconds*frequency)):\n",
    "    leader_pos = robot.leader_arms[\"main\"].read(\"Present_Position\")\n",
    "    robot.follower_arms[\"main\"].write(\"Goal_Position\", leader_pos)\n",
    "robot.leader_arms[\"main\"].write(\"Torque_Enable\", TorqueMode.DISABLED.value)\n",
    "robot.follower_arms[\"main\"].write(\"Torque_Enable\", TorqueMode.DISABLED.value)\n",
    "robot.disconnect()"
   ]
  },
  {
   "cell_type": "code",
   "execution_count": 6,
   "metadata": {},
   "outputs": [],
   "source": [
    "robot.disconnect()"
   ]
  }
 ],
 "metadata": {
  "kernelspec": {
   "display_name": "lerobot2",
   "language": "python",
   "name": "python3"
  },
  "language_info": {
   "codemirror_mode": {
    "name": "ipython",
    "version": 3
   },
   "file_extension": ".py",
   "mimetype": "text/x-python",
   "name": "python",
   "nbconvert_exporter": "python",
   "pygments_lexer": "ipython3",
   "version": "3.10.13"
  }
 },
 "nbformat": 4,
 "nbformat_minor": 2
}
