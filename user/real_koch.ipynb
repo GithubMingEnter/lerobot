{
 "cells": [
  {
   "cell_type": "code",
   "execution_count": 11,
   "metadata": {},
   "outputs": [
    {
     "name": "stdout",
     "output_type": "stream",
     "text": [
      "Connecting main follower arm.\n",
      "Connecting main leader arm.\n",
      "Activating torque on main follower arm.\n"
     ]
    }
   ],
   "source": [
    "from lerobot.common.robot_devices.robots.configs import KochRobotConfig\n",
    "from lerobot.common.robot_devices.robots.manipulator import ManipulatorRobot\n",
    "from lerobot.common.robot_devices.motors.configs import DynamixelMotorsBusConfig\n",
    "from lerobot.common.robot_devices.motors.dynamixel import DynamixelMotorsBus\n",
    "\n",
    "leader_config = DynamixelMotorsBusConfig(\n",
    "    port=\"/dev/ttyLeaderL\",\n",
    "    motors={\n",
    "        # name: (index, model)\n",
    "        \"shoulder_pan\": (1, \"xl330-m077\"),\n",
    "        \"shoulder_lift\": (2, \"xl330-m077\"),\n",
    "        \"elbow_flex\": (3, \"xl330-m077\"),\n",
    "        \"wrist_flex\": (4, \"xl330-m077\"),\n",
    "        \"wrist_roll\": (5, \"xl330-m077\"),\n",
    "        \"gripper\": (6, \"xl330-m077\"),\n",
    "    },\n",
    ")\n",
    "\n",
    "follower_config = DynamixelMotorsBusConfig(\n",
    "    port=\"/dev/ttyFollowerR\",\n",
    "    motors={\n",
    "        # name: (index, model)\n",
    "        \"shoulder_pan\": (1, \"xl430-w250\"),\n",
    "        \"shoulder_lift\": (2, \"xl430-w250\"),\n",
    "        \"elbow_flex\": (3, \"xl330-m288\"),\n",
    "        \"wrist_flex\": (4, \"xl330-m288\"),\n",
    "        \"wrist_roll\": (5, \"xl330-m288\"),\n",
    "        \"gripper\": (6, \"xl330-m288\"),\n",
    "    },\n",
    ")\n",
    "leader_arm = DynamixelMotorsBus(leader_config)\n",
    "follower_arm = DynamixelMotorsBus(follower_config)\n",
    "robot_config = KochRobotConfig(\n",
    "    leader_arms={\"main\": leader_config},\n",
    "    follower_arms={\"main\": follower_config},\n",
    "    cameras={0,2},  # We don't use any camera for now\n",
    ")\n",
    "robot = ManipulatorRobot(robot_config)\n",
    "\n",
    "robot.connect()\n"
   ]
  },
  {
   "cell_type": "code",
   "execution_count": 12,
   "metadata": {},
   "outputs": [
    {
     "name": "stderr",
     "output_type": "stream",
     "text": [
      "100%|██████████| 1000/1000 [00:04<00:00, 209.93it/s]\n"
     ]
    }
   ],
   "source": [
    "\n",
    "from lerobot.common.robot_devices.motors.dynamixel import TorqueMode\n",
    "import tqdm\n",
    "seconds = 5 \n",
    "frequency = 200\n",
    "if robot.is_connected == False:\n",
    "    robot.connect()\n",
    "    \n",
    "\n",
    "for _ in tqdm.tqdm(range(seconds*frequency)):\n",
    "    leader_pos = robot.leader_arms[\"main\"].read(\"Present_Position\")\n",
    "    robot.follower_arms[\"main\"].write(\"Goal_Position\", leader_pos)\n",
    "robot.leader_arms[\"main\"].write(\"Torque_Enable\", TorqueMode.DISABLED.value)\n",
    "robot.follower_arms[\"main\"].write(\"Torque_Enable\", TorqueMode.DISABLED.value)\n",
    "robot.disconnect()"
   ]
  },
  {
   "cell_type": "code",
   "execution_count": 13,
   "metadata": {},
   "outputs": [
    {
     "ename": "RobotDeviceNotConnectedError",
     "evalue": "DynamixelMotorsBus(/dev/ttyLeaderL) is not connected. You need to run `motors_bus.connect()`.",
     "output_type": "error",
     "traceback": [
      "\u001b[0;31m---------------------------------------------------------------------------\u001b[0m",
      "\u001b[0;31mRobotDeviceNotConnectedError\u001b[0m              Traceback (most recent call last)",
      "Cell \u001b[0;32mIn[13], line 1\u001b[0m\n\u001b[0;32m----> 1\u001b[0m leader_pos \u001b[38;5;241m=\u001b[39m \u001b[43mrobot\u001b[49m\u001b[38;5;241;43m.\u001b[39;49m\u001b[43mleader_arms\u001b[49m\u001b[43m[\u001b[49m\u001b[38;5;124;43m\"\u001b[39;49m\u001b[38;5;124;43mmain\u001b[39;49m\u001b[38;5;124;43m\"\u001b[39;49m\u001b[43m]\u001b[49m\u001b[38;5;241;43m.\u001b[39;49m\u001b[43mread\u001b[49m\u001b[43m(\u001b[49m\u001b[38;5;124;43m\"\u001b[39;49m\u001b[38;5;124;43mPresent_Position\u001b[39;49m\u001b[38;5;124;43m\"\u001b[39;49m\u001b[43m)\u001b[49m\n\u001b[1;32m      2\u001b[0m follower_pos \u001b[38;5;241m=\u001b[39m robot\u001b[38;5;241m.\u001b[39mfollower_arms[\u001b[38;5;124m\"\u001b[39m\u001b[38;5;124mmain\u001b[39m\u001b[38;5;124m\"\u001b[39m]\u001b[38;5;241m.\u001b[39mread(\u001b[38;5;124m\"\u001b[39m\u001b[38;5;124mPresent_Position\u001b[39m\u001b[38;5;124m\"\u001b[39m)\n\u001b[1;32m      3\u001b[0m observation, action \u001b[38;5;241m=\u001b[39m robot\u001b[38;5;241m.\u001b[39mteleop_step(record_data\u001b[38;5;241m=\u001b[39m\u001b[38;5;28;01mTrue\u001b[39;00m)\n",
      "File \u001b[0;32m~/robsys_ws/lerobot/lerobot/common/robot_devices/motors/dynamixel.py:673\u001b[0m, in \u001b[0;36mDynamixelMotorsBus.read\u001b[0;34m(self, data_name, motor_names)\u001b[0m\n\u001b[1;32m    671\u001b[0m \u001b[38;5;28;01mdef\u001b[39;00m\u001b[38;5;250m \u001b[39m\u001b[38;5;21mread\u001b[39m(\u001b[38;5;28mself\u001b[39m, data_name, motor_names: \u001b[38;5;28mstr\u001b[39m \u001b[38;5;241m|\u001b[39m \u001b[38;5;28mlist\u001b[39m[\u001b[38;5;28mstr\u001b[39m] \u001b[38;5;241m|\u001b[39m \u001b[38;5;28;01mNone\u001b[39;00m \u001b[38;5;241m=\u001b[39m \u001b[38;5;28;01mNone\u001b[39;00m):\n\u001b[1;32m    672\u001b[0m     \u001b[38;5;28;01mif\u001b[39;00m \u001b[38;5;129;01mnot\u001b[39;00m \u001b[38;5;28mself\u001b[39m\u001b[38;5;241m.\u001b[39mis_connected:\n\u001b[0;32m--> 673\u001b[0m         \u001b[38;5;28;01mraise\u001b[39;00m RobotDeviceNotConnectedError(\n\u001b[1;32m    674\u001b[0m             \u001b[38;5;124mf\u001b[39m\u001b[38;5;124m\"\u001b[39m\u001b[38;5;124mDynamixelMotorsBus(\u001b[39m\u001b[38;5;132;01m{\u001b[39;00m\u001b[38;5;28mself\u001b[39m\u001b[38;5;241m.\u001b[39mport\u001b[38;5;132;01m}\u001b[39;00m\u001b[38;5;124m) is not connected. You need to run `motors_bus.connect()`.\u001b[39m\u001b[38;5;124m\"\u001b[39m\n\u001b[1;32m    675\u001b[0m         )\n\u001b[1;32m    677\u001b[0m     start_time \u001b[38;5;241m=\u001b[39m time\u001b[38;5;241m.\u001b[39mperf_counter()\n\u001b[1;32m    679\u001b[0m     \u001b[38;5;28;01mif\u001b[39;00m \u001b[38;5;28mself\u001b[39m\u001b[38;5;241m.\u001b[39mmock:\n",
      "\u001b[0;31mRobotDeviceNotConnectedError\u001b[0m: DynamixelMotorsBus(/dev/ttyLeaderL) is not connected. You need to run `motors_bus.connect()`."
     ]
    }
   ],
   "source": [
    "leader_pos = robot.leader_arms[\"main\"].read(\"Present_Position\")\n",
    "follower_pos = robot.follower_arms[\"main\"].read(\"Present_Position\")\n",
    "observation, action = robot.teleop_step(record_data=True)\n",
    "\n",
    "print(follower_pos)\n",
    "print(observation)\n",
    "print(leader_pos)\n",
    "print(action)\n",
    "robot.disconnect()"
   ]
  },
  {
   "cell_type": "code",
   "execution_count": 1,
   "metadata": {},
   "outputs": [
    {
     "name": "stdout",
     "output_type": "stream",
     "text": [
      "(480, 640, 3)\n",
      "uint8\n"
     ]
    }
   ],
   "source": [
    "from lerobot.common.robot_devices.cameras.configs import OpenCVCameraConfig\n",
    "from lerobot.common.robot_devices.cameras.opencv import OpenCVCamera\n",
    "\n",
    "config = OpenCVCameraConfig(camera_index=0, fps=30, width=640, height=480)\n",
    "camera_config = OpenCVCameraConfig(camera_index=0)\n",
    "camera = OpenCVCamera(config)\n",
    "camera.connect()\n",
    "color_image = camera.read()\n",
    "\n",
    "print(color_image.shape)\n",
    "print(color_image.dtype)\n",
    "camera.disconnect()"
   ]
  },
  {
   "cell_type": "code",
   "execution_count": 15,
   "metadata": {},
   "outputs": [
    {
     "name": "stdout",
     "output_type": "stream",
     "text": [
      "Connecting main follower arm.\n",
      "Connecting main leader arm.\n",
      "Activating torque on main follower arm.\n"
     ]
    },
    {
     "ename": "KeyError",
     "evalue": "'observation.images.laptop'",
     "output_type": "error",
     "traceback": [
      "\u001b[0;31m---------------------------------------------------------------------------\u001b[0m",
      "\u001b[0;31mKeyError\u001b[0m                                  Traceback (most recent call last)",
      "Cell \u001b[0;32mIn[15], line 6\u001b[0m\n\u001b[1;32m      4\u001b[0m robot\u001b[38;5;241m.\u001b[39mconnect()\n\u001b[1;32m      5\u001b[0m observation, action \u001b[38;5;241m=\u001b[39m robot\u001b[38;5;241m.\u001b[39mteleop_step(record_data\u001b[38;5;241m=\u001b[39m\u001b[38;5;28;01mTrue\u001b[39;00m)\n\u001b[0;32m----> 6\u001b[0m \u001b[38;5;28mprint\u001b[39m(\u001b[43mobservation\u001b[49m\u001b[43m[\u001b[49m\u001b[38;5;124;43m\"\u001b[39;49m\u001b[38;5;124;43mobservation.images.laptop\u001b[39;49m\u001b[38;5;124;43m\"\u001b[39;49m\u001b[43m]\u001b[49m\u001b[38;5;241m.\u001b[39mshape)\n\u001b[1;32m      7\u001b[0m \u001b[38;5;28mprint\u001b[39m(observation[\u001b[38;5;124m\"\u001b[39m\u001b[38;5;124mobservation.images.phone\u001b[39m\u001b[38;5;124m\"\u001b[39m]\u001b[38;5;241m.\u001b[39mshape)\n\u001b[1;32m      8\u001b[0m \u001b[38;5;28mprint\u001b[39m(observation[\u001b[38;5;124m\"\u001b[39m\u001b[38;5;124mobservation.images.laptop\u001b[39m\u001b[38;5;124m\"\u001b[39m]\u001b[38;5;241m.\u001b[39mmin()\u001b[38;5;241m.\u001b[39mitem())\n",
      "\u001b[0;31mKeyError\u001b[0m: 'observation.images.laptop'"
     ]
    }
   ],
   "source": [
    "robot = ManipulatorRobot(\n",
    "    robot_config\n",
    ")\n",
    "robot.connect()\n",
    "observation, action = robot.teleop_step(record_data=True)\n",
    "print(observation[\"observation.images.laptop\"].shape)\n",
    "print(observation[\"observation.images.phone\"].shape)\n",
    "print(observation[\"observation.images.laptop\"].min().item())\n",
    "print(observation[\"observation.images.laptop\"].max().item())"
   ]
  },
  {
   "cell_type": "code",
   "execution_count": null,
   "metadata": {},
   "outputs": [],
   "source": []
  },
  {
   "cell_type": "code",
   "execution_count": null,
   "metadata": {},
   "outputs": [],
   "source": []
  }
 ],
 "metadata": {
  "kernelspec": {
   "display_name": "lerobot2",
   "language": "python",
   "name": "python3"
  },
  "language_info": {
   "codemirror_mode": {
    "name": "ipython",
    "version": 3
   },
   "file_extension": ".py",
   "mimetype": "text/x-python",
   "name": "python",
   "nbconvert_exporter": "python",
   "pygments_lexer": "ipython3",
   "version": "3.10.13"
  }
 },
 "nbformat": 4,
 "nbformat_minor": 2
}
